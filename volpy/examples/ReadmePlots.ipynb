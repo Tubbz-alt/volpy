{
 "cells": [
  {
   "cell_type": "markdown",
   "metadata": {},
   "source": [
    "# Plots for the Readme.md document"
   ]
  },
  {
   "cell_type": "markdown",
   "metadata": {},
   "source": [
    "Generate a 3D plot containing 3 points that form a triangle ABC. Then plot an orthogonal line to the plane with a cone on its end to represent an orthonormal vector to the ABC plane."
   ]
  },
  {
   "cell_type": "markdown",
   "metadata": {},
   "source": [
    "## The cone primitive\n",
    "The center of the cone is represented by x, y, z.\n",
    "Its direct"
   ]
  },
  {
   "cell_type": "code",
   "execution_count": 1,
   "metadata": {},
   "outputs": [],
   "source": [
    "import plotly\n",
    "import plotly.offline as po\n",
    "import plotly.graph_objs as go\n",
    "from plotly import tools"
   ]
  },
  {
   "cell_type": "code",
   "execution_count": 109,
   "metadata": {},
   "outputs": [],
   "source": [
    "data = [{\n",
    "    'type': 'cone',\n",
    "    'x': [1], 'y': [1], 'z': [4],\n",
    "    'u': [1], 'v': [20], 'w': [0]\n",
    "}]"
   ]
  },
  {
   "cell_type": "code",
   "execution_count": 110,
   "metadata": {},
   "outputs": [],
   "source": [
    "figure = go.Figure(data=data)"
   ]
  },
  {
   "cell_type": "code",
   "execution_count": 111,
   "metadata": {},
   "outputs": [
    {
     "data": {
      "text/plain": [
       "'file:///Users/agu3rra/Projects/volpy/volpy/examples/cone.html'"
      ]
     },
     "execution_count": 111,
     "metadata": {},
     "output_type": "execute_result"
    }
   ],
   "source": [
    "po.plot(figure, filename='cone.html')"
   ]
  },
  {
   "cell_type": "markdown",
   "metadata": {},
   "source": [
    "## 3D Scatter"
   ]
  },
  {
   "cell_type": "code",
   "execution_count": 112,
   "metadata": {},
   "outputs": [],
   "source": [
    "import numpy as np"
   ]
  },
  {
   "cell_type": "code",
   "execution_count": 113,
   "metadata": {},
   "outputs": [],
   "source": [
    "import sys\n",
    "sys.path.append('../')"
   ]
  },
  {
   "cell_type": "code",
   "execution_count": 114,
   "metadata": {},
   "outputs": [],
   "source": [
    "from coordinates import CoordinateSystem\n",
    "from coordinates import CartesianCoordinate"
   ]
  },
  {
   "cell_type": "code",
   "execution_count": 115,
   "metadata": {},
   "outputs": [],
   "source": [
    "A = CartesianCoordinate(1.0, 3.0, 1.0)\n",
    "B = CartesianCoordinate(3.0, 2.0, 2.0)\n",
    "C = CartesianCoordinate(2.0, 5.0, 3.0)"
   ]
  },
  {
   "cell_type": "code",
   "execution_count": 116,
   "metadata": {},
   "outputs": [],
   "source": [
    "x_data = np.array([A.x, B.x, C.x])\n",
    "y_data = np.array([A.y, B.y, C.y])\n",
    "z_data = np.array([A.z, B.z, C.z])"
   ]
  },
  {
   "cell_type": "code",
   "execution_count": 117,
   "metadata": {},
   "outputs": [],
   "source": [
    "trace_triangle = go.Scatter3d(x=x_data,\n",
    "                       y=y_data,\n",
    "                       z=z_data,\n",
    "                       mode='markers',\n",
    "                       marker=dict(size=7,\n",
    "                                 line=dict(color='#fff3ff',\n",
    "                                           width=0.5),\n",
    "                                 opacity=0.8),\n",
    "                       connectgaps=True)"
   ]
  },
  {
   "cell_type": "code",
   "execution_count": 118,
   "metadata": {},
   "outputs": [],
   "source": [
    "vector_AB = B - A\n",
    "vector_BC = C - B\n",
    "normal_vector = np.cross(vector_AB, vector_BC)"
   ]
  },
  {
   "cell_type": "code",
   "execution_count": 119,
   "metadata": {},
   "outputs": [
    {
     "data": {
      "text/plain": [
       "array([-4., -3.,  5.])"
      ]
     },
     "execution_count": 119,
     "metadata": {},
     "output_type": "execute_result"
    }
   ],
   "source": [
    "normal_vector"
   ]
  },
  {
   "cell_type": "code",
   "execution_count": 120,
   "metadata": {},
   "outputs": [],
   "source": [
    "x_data = np.array([0,normal_vector[0]])\n",
    "y_data = np.array([0,normal_vector[1]])\n",
    "z_data = np.array([0,normal_vector[2]])\n",
    "\n",
    "trace_normal_vector = go.Scatter3d(x=x_data, y=y_data, z=z_data,\n",
    "    marker=dict(\n",
    "        size=4,\n",
    "        color='#2f77b4'\n",
    "    ),\n",
    "    line=dict(\n",
    "        color='#2f77b4',\n",
    "        width=1\n",
    "    )\n",
    ")"
   ]
  },
  {
   "cell_type": "code",
   "execution_count": 124,
   "metadata": {},
   "outputs": [],
   "source": [
    "trace_cone = {\n",
    "    'type': 'cone',\n",
    "    \"sizemode\": \"absolute\",\n",
    "    \"sizeref\": 0.5,\n",
    "    \"anchor\": \"tail\",\n",
    "    'x': [normal_vector[0]], 'y': [normal_vector[1]], 'z': [normal_vector[2]],\n",
    "    'u': [normal_vector[0]], 'v': [normal_vector[1]], 'w': [normal_vector[2]]\n",
    "}"
   ]
  },
  {
   "cell_type": "code",
   "execution_count": 125,
   "metadata": {},
   "outputs": [],
   "source": [
    "layout = go.Layout(title='Triangle', autosize=True)"
   ]
  },
  {
   "cell_type": "code",
   "execution_count": 126,
   "metadata": {},
   "outputs": [],
   "source": [
    "figure = go.Figure(data=[trace_triangle, trace_normal_vector, trace_cone], layout=layout)"
   ]
  },
  {
   "cell_type": "code",
   "execution_count": 127,
   "metadata": {},
   "outputs": [
    {
     "data": {
      "text/plain": [
       "'file:///Users/agu3rra/Projects/volpy/volpy/examples/triangle.html'"
      ]
     },
     "execution_count": 127,
     "metadata": {},
     "output_type": "execute_result"
    }
   ],
   "source": [
    "po.plot(figure, filename='triangle.html')"
   ]
  },
  {
   "cell_type": "code",
   "execution_count": null,
   "metadata": {},
   "outputs": [],
   "source": []
  },
  {
   "cell_type": "code",
   "execution_count": null,
   "metadata": {},
   "outputs": [],
   "source": []
  }
 ],
 "metadata": {
  "kernelspec": {
   "display_name": "Python 3",
   "language": "python",
   "name": "python3"
  },
  "language_info": {
   "codemirror_mode": {
    "name": "ipython",
    "version": 3
   },
   "file_extension": ".py",
   "mimetype": "text/x-python",
   "name": "python",
   "nbconvert_exporter": "python",
   "pygments_lexer": "ipython3",
   "version": "3.7.0"
  }
 },
 "nbformat": 4,
 "nbformat_minor": 2
}
