{
 "cells": [
  {
   "cell_type": "code",
   "execution_count": 1,
   "metadata": {},
   "outputs": [
    {
     "ename": "SyntaxError",
     "evalue": "invalid syntax (plots.py, line 87)",
     "output_type": "error",
     "traceback": [
      "Traceback \u001b[0;36m(most recent call last)\u001b[0m:\n",
      "  File \u001b[1;32m\"/Library/Frameworks/Python.framework/Versions/3.7/lib/python3.7/site-packages/IPython/core/interactiveshell.py\"\u001b[0m, line \u001b[1;32m2963\u001b[0m, in \u001b[1;35mrun_code\u001b[0m\n    exec(code_obj, self.user_global_ns, self.user_ns)\n",
      "\u001b[0;36m  File \u001b[0;32m\"<ipython-input-1-be11831e7f88>\"\u001b[0;36m, line \u001b[0;32m8\u001b[0;36m, in \u001b[0;35m<module>\u001b[0;36m\u001b[0m\n\u001b[0;31m    from plots import SurveyPlot\u001b[0m\n",
      "\u001b[0;36m  File \u001b[0;32m\"../bin/plots.py\"\u001b[0;36m, line \u001b[0;32m87\u001b[0m\n\u001b[0;31m    \"\"\"Plots a top view of the triangular mesh for the survey\"\"\"\u001b[0m\n\u001b[0m                                        ^\u001b[0m\n\u001b[0;31mSyntaxError\u001b[0m\u001b[0;31m:\u001b[0m invalid syntax\n"
     ]
    }
   ],
   "source": [
    "import sys\n",
    "sys.path.append('../bin')\n",
    "import pandas as pd\n",
    "import numpy as np\n",
    "\n",
    "from survey import Survey\n",
    "from coordinates import CoordinateSystem\n",
    "from plots import SurveyPlot"
   ]
  },
  {
   "cell_type": "code",
   "execution_count": null,
   "metadata": {},
   "outputs": [],
   "source": [
    "SAMPLE = '../sample_data/survey_ibema_faxinal_Cartesian.csv'"
   ]
  },
  {
   "cell_type": "code",
   "execution_count": null,
   "metadata": {},
   "outputs": [],
   "source": [
    "#SAMPLE = '../sample_data/survey_delaunay_Cartesian.csv'"
   ]
  },
  {
   "cell_type": "code",
   "execution_count": null,
   "metadata": {},
   "outputs": [],
   "source": [
    "survey = Survey(SAMPLE, 'SAMPLE')"
   ]
  },
  {
   "cell_type": "code",
   "execution_count": null,
   "metadata": {},
   "outputs": [],
   "source": [
    "survey.data.head()"
   ]
  },
  {
   "cell_type": "code",
   "execution_count": null,
   "metadata": {},
   "outputs": [],
   "source": [
    "plots = SurveyPlot(survey)"
   ]
  },
  {
   "cell_type": "code",
   "execution_count": null,
   "metadata": {},
   "outputs": [],
   "source": [
    "plots.generate_subplots()"
   ]
  },
  {
   "cell_type": "code",
   "execution_count": null,
   "metadata": {},
   "outputs": [],
   "source": [
    "plots.scatter3d(survey.data.x, survey.data.y, survey.data.z)"
   ]
  },
  {
   "cell_type": "code",
   "execution_count": null,
   "metadata": {},
   "outputs": [],
   "source": [
    "import plotly\n",
    "import plotly.offline as po\n",
    "import plotly.graph_objs as go\n",
    "from plotly import tools\n",
    "x=[0, 2.5, 5]\n",
    "y=[0, 5.5, 2]\n",
    "trace = go.Scatter(\n",
    "            x=x,\n",
    "            y=y,\n",
    "            mode='markers',\n",
    "            marker=dict(\n",
    "                size=4,\n",
    "                opacity=0.8,\n",
    "                #color=color,\n",
    "                #colorscale='Viridis'\n",
    "            ),\n",
    "            connectgaps=False,\n",
    "            fill='toself')\n",
    "figure = go.Figure(data=[trace])\n",
    "po.plot(figure, filename='test.html')"
   ]
  },
  {
   "cell_type": "code",
   "execution_count": null,
   "metadata": {},
   "outputs": [],
   "source": []
  }
 ],
 "metadata": {
  "kernelspec": {
   "display_name": "Python 3",
   "language": "python",
   "name": "python3"
  },
  "language_info": {
   "codemirror_mode": {
    "name": "ipython",
    "version": 3
   },
   "file_extension": ".py",
   "mimetype": "text/x-python",
   "name": "python",
   "nbconvert_exporter": "python",
   "pygments_lexer": "ipython3",
   "version": "3.7.0"
  }
 },
 "nbformat": 4,
 "nbformat_minor": 2
}
